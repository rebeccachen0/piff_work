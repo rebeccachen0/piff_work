{
 "cells": [
  {
   "cell_type": "code",
   "execution_count": 1,
   "metadata": {
    "ExecuteTime": {
     "end_time": "2019-05-22T16:40:54.464120Z",
     "start_time": "2019-05-22T16:40:52.250132Z"
    },
    "collapsed": true
   },
   "outputs": [],
   "source": [
    "import numpy as np\n",
    "import astropy.io.fits as pf\n",
    "import piff\n",
    "import matplotlib.pyplot as plt\n",
    "import galsim\n",
    "import logging\n",
    "import pandas\n",
    "import os\n",
    "import ngmix\n",
    "import functions as f\n",
    "%matplotlib inline"
   ]
  },
  {
   "cell_type": "code",
   "execution_count": 2,
   "metadata": {
    "ExecuteTime": {
     "end_time": "2019-05-22T16:41:03.637395Z",
     "start_time": "2019-05-22T16:41:03.633547Z"
    },
    "collapsed": true
   },
   "outputs": [],
   "source": [
    "BAD_MEASUREMENT = 2\n",
    "MAX_CENTROID_SHIFT = 1.0\n",
    "CENTROID_SHIFT = 4\n",
    "logger = logging.getLogger('run_piff')"
   ]
  },
  {
   "cell_type": "code",
   "execution_count": 3,
   "metadata": {
    "ExecuteTime": {
     "end_time": "2019-05-22T16:41:13.132292Z",
     "start_time": "2019-05-22T16:41:13.088491Z"
    },
    "collapsed": true
   },
   "outputs": [],
   "source": [
    "# from run_piff script\n",
    "def hsm(im, wt, logger):\n",
    "    #print('im stats: ',im.array.min(),im.array.max(),im.array.mean(),np.median(im.array))\n",
    "    #print('wt = ',wt)\n",
    "    #if wt:\n",
    "        #print('im stats: ',wt.array.min(),wt.array.max(),wt.array.mean(),np.median(wt.array))\n",
    "    flag = 0\n",
    "    try:\n",
    "        shape_data = im.FindAdaptiveMom(weight=wt, strict=False)\n",
    "        #print('shape_data = ',shape_data)\n",
    "    except Exception as e:\n",
    "        logger.info(e)\n",
    "        logger.info(' *** Bad measurement (caught exception).  Mask this one.')\n",
    "        flag |= BAD_MEASUREMENT\n",
    "\n",
    "    if shape_data.moments_status != 0:\n",
    "        logger.info('status = %s',shape_data.moments_status)\n",
    "        logger.info(' *** Bad measurement (hsm status).  Mask this one.')\n",
    "        flag |= BAD_MEASUREMENT\n",
    "\n",
    "    if galsim.__version__ >= '1.5.1':\n",
    "        dx = shape_data.moments_centroid.x - im.true_center.x\n",
    "        dy = shape_data.moments_centroid.y - im.true_center.y\n",
    "    else:\n",
    "        dx = shape_data.moments_centroid.x - im.trueCenter().x\n",
    "        dy = shape_data.moments_centroid.y - im.trueCenter().y\n",
    "    #print('dx, dy = ',dx,dy)\n",
    "    if dx**2 + dy**2 > MAX_CENTROID_SHIFT**2:\n",
    "        logger.info(' *** Centroid shifted by %f,%f in hsm.  Mask this one.',dx,dy)\n",
    "        flag |= CENTROID_SHIFT\n",
    "\n",
    "    flux = shape_data.moments_amp\n",
    "    #print('flux = ',flux)\n",
    "\n",
    "    # Account for the image wcs\n",
    "    if im.wcs.isPixelScale():\n",
    "        g1 = shape_data.observed_shape.g1\n",
    "        g2 = shape_data.observed_shape.g2\n",
    "        T = 2 * shape_data.moments_sigma**2 * im.scale**2\n",
    "        #print('simple shape = ',g1,g2,T)\n",
    "    else:\n",
    "        e1 = shape_data.observed_shape.e1\n",
    "        e2 = shape_data.observed_shape.e2\n",
    "        s = shape_data.moments_sigma\n",
    "        #print('simple shape = ',e1,e2,s)\n",
    "\n",
    "        if galsim.__version__ >= '1.5.1':\n",
    "            jac = im.wcs.jacobian(im.true_center)\n",
    "        else:\n",
    "            jac = im.wcs.jacobian(im.trueCenter())\n",
    "        M = np.matrix( [[ 1 + e1, e2 ], [ e2, 1 - e1 ]] ) * s*s\n",
    "        J = jac.getMatrix()\n",
    "        M = J * M * J.T\n",
    "\n",
    "        e1 = (M[0,0] - M[1,1]) / (M[0,0] + M[1,1])\n",
    "        e2 = (2.*M[0,1]) / (M[0,0] + M[1,1])\n",
    "        T = M[0,0] + M[1,1]\n",
    "\n",
    "        shear = galsim.Shear(e1=e1, e2=e2)\n",
    "        g1 = shear.g1\n",
    "        g2 = shear.g2\n",
    "        #print('distorted shape = ',g1,g2,T)\n",
    "\n",
    "    return dx, dy, g1, g2, T, flux, flag"
   ]
  },
  {
   "cell_type": "code",
   "execution_count": 4,
   "metadata": {
    "ExecuteTime": {
     "end_time": "2019-05-22T16:41:20.556160Z",
     "start_time": "2019-05-22T16:41:20.549572Z"
    },
    "collapsed": true
   },
   "outputs": [],
   "source": [
    "# from run_piff script\n",
    "def make_ngmix_prior(T, pixel_scale):\n",
    "    from ngmix import priors, joint_prior\n",
    "\n",
    "    # centroid is 1 pixel gaussian in each direction\n",
    "    cen_prior=priors.CenPrior(0.0, 0.0, pixel_scale, pixel_scale)\n",
    "\n",
    "    # g is Bernstein & Armstrong prior with sigma = 0.1\n",
    "    gprior=priors.GPriorBA(0.1)\n",
    "\n",
    "    # T is log normal with width 0.2\n",
    "    Tprior=priors.LogNormal(T, 0.2)\n",
    "\n",
    "    # flux is the only uninformative prior\n",
    "    Fprior=priors.FlatPrior(-10.0, 1.e10)\n",
    "\n",
    "    prior=joint_prior.PriorSimpleSep(cen_prior, gprior, Tprior, Fprior)\n",
    "    \n",
    "    return prior"
   ]
  },
  {
   "cell_type": "code",
   "execution_count": 5,
   "metadata": {
    "ExecuteTime": {
     "end_time": "2019-05-22T16:41:29.689396Z",
     "start_time": "2019-05-22T16:41:29.648346Z"
    },
    "collapsed": true
   },
   "outputs": [],
   "source": [
    "# from run_piff script\n",
    "def ngmix_fit(im, wt, fwhm, x, y, logger):\n",
    "    flag = 0\n",
    "    dx, dy, g1, g2, flux = 0., 0., 0., 0., 0.\n",
    "    T_guess = (fwhm / 2.35482)**2 * 2.\n",
    "    T = T_guess\n",
    "    try:\n",
    "        if galsim.__version__ >= '1.5.1':\n",
    "            wcs = im.wcs.local(im.center)\n",
    "        else:\n",
    "            wcs = im.wcs.local(im.center())\n",
    "#         print('set wcs')\n",
    "#         print(T, wcs.minLinearScale())\n",
    "        prior = make_ngmix_prior(T, wcs.minLinearScale())\n",
    "#         print('made prior')\n",
    "        if galsim.__version__ >= '1.5.1':\n",
    "            cen = im.true_center - im.origin\n",
    "        else:\n",
    "            cen = im.trueCenter() - im.origin()\n",
    "        jac = ngmix.Jacobian(wcs=wcs, x=cen.x + x - int(x+0.5), y=cen.y + y - int(y+0.5))\n",
    "#         jac = ngmix.DiagonalJacobian(scale=(0.27/60/60), row=x, col=y)\n",
    "#         print(jac.det)\n",
    "#         print('made jac')\n",
    "        if wt is None:\n",
    "            obs = ngmix.Observation(image=im.array, jacobian=jac)\n",
    "        else:\n",
    "            obs = ngmix.Observation(image=im.array, weight=wt.array, jacobian=jac)\n",
    "\n",
    "        lm_pars = {'maxfev':4000}\n",
    "        runner=ngmix.bootstrap.PSFRunner(obs, 'gauss', T, lm_pars, prior=prior)\n",
    "        runner.go(ntry=3)\n",
    "#         print('go runner')\n",
    "        \n",
    "        ngmix_flag = runner.fitter.get_result()['flags']\n",
    "        gmix = runner.fitter.get_gmix()\n",
    "    except Exception as e:\n",
    "        logger.info(e)\n",
    "        logger.info(' *** Bad measurement (caught exception).  Mask this one.')\n",
    "        flag |= BAD_MEASUREMENT\n",
    "#         print('hit exception')\n",
    "        return dx,dy,g1,g2,T,flux,flag\n",
    "\n",
    "    if ngmix_flag != 0:\n",
    "        logger.info(' *** Bad measurement (ngmix flag = %d).  Mask this one.',ngmix_flag)\n",
    "        flag |= BAD_MEASUREMENT\n",
    "\n",
    "    if abs(g1) > 0.5 or abs(g2) > 0.5:\n",
    "        logger.info(' *** Bad shape measurement (%f,%f).  Mask this one.',g1,g2)\n",
    "        flag |= BAD_MEASUREMENT\n",
    "\n",
    "    dx, dy = gmix.get_cen()\n",
    "    if dx**2 + dy**2 > MAX_CENTROID_SHIFT**2:\n",
    "        logger.info(' *** Centroid shifted by %f,%f in ngmix.  Mask this one.',dx,dy)\n",
    "        flag |= CENTROID_SHIFT\n",
    "\n",
    "    g1, g2, T = gmix.get_g1g2T()\n",
    "    flux = gmix.get_flux() / wcs.pixelArea()  # flux is in ADU.  Should ~ match sum of pixels\n",
    "    #logger.info('ngmix: %s %s %s %s %s %s %s',dx,dy,g1,g2,T,flux,flag)\n",
    "    return dx, dy, g1, g2, T, flux, flag"
   ]
  },
  {
   "cell_type": "code",
   "execution_count": 6,
   "metadata": {
    "ExecuteTime": {
     "end_time": "2019-05-22T16:41:38.789545Z",
     "start_time": "2019-05-22T16:41:38.786577Z"
    },
    "collapsed": true
   },
   "outputs": [],
   "source": [
    "fwhm = 0.8"
   ]
  },
  {
   "cell_type": "code",
   "execution_count": 35,
   "metadata": {
    "ExecuteTime": {
     "end_time": "2019-05-22T17:40:47.694895Z",
     "start_time": "2019-05-22T17:40:47.690122Z"
    },
    "collapsed": true
   },
   "outputs": [],
   "source": [
    "psf_cat = pf.open('./y3_test/exp_psf_cat_383252.fits')"
   ]
  },
  {
   "cell_type": "code",
   "execution_count": 28,
   "metadata": {
    "ExecuteTime": {
     "end_time": "2019-05-22T17:35:46.867779Z",
     "start_time": "2019-05-22T17:35:46.485312Z"
    }
   },
   "outputs": [
    {
     "data": {
      "image/png": "[encoded data removed]",
      "text/plain": [
       "<matplotlib.figure.Figure at 0x11be20e10>"
      ]
     },
     "metadata": {},
     "output_type": "display_data"
    },
    {
     "data": {
      "image/png": "[encoded data removed]",
      "text/plain": [
       "<matplotlib.figure.Figure at 0x124ea2978>"
      ]
     },
     "metadata": {},
     "output_type": "display_data"
    }
   ],
   "source": [
    "plt.figure()\n",
    "plt.hist(psf_cat[1].data[psf_cat[1].data['ccdnum']==1]['obs_e1'], bins=50)\n",
    "plt.xlim(-.2, .2)\n",
    "plt.title('star e1 from psf catalog. chip 1')\n",
    "plt.show()\n",
    "plt.figure()\n",
    "plt.hist(psf_cat[1].data[psf_cat[1].data['ccdnum']==1]['obs_e2'], bins=50)\n",
    "plt.xlim(-.2, .2)\n",
    "plt.title('star e2 from psf catalog. chip 1')\n",
    "plt.show()"
   ]
  },
  {
   "cell_type": "code",
   "execution_count": 19,
   "metadata": {
    "ExecuteTime": {
     "end_time": "2019-05-22T16:59:18.058838Z",
     "start_time": "2019-05-22T16:59:17.909317Z"
    },
    "collapsed": true
   },
   "outputs": [],
   "source": [
    "direc = '/Users/rebeccachen/Desktop/Piff_work/y3_test/'\n",
    "# measure star shape/size from self-made piff chip 1\n",
    "full_image = galsim.fits.read(direc+'D00383252_r_c'+'01'+'_r2277p01_immasked.fits', hdu=1)\n",
    "stamp_size = 48\n",
    "fwhm = 0.8\n",
    "x_cat = pf.open(direc+'383252_c'+'01'+'.fits')[1].data['x']\n",
    "y_cat = pf.open(direc+'383252_c'+'01'+'.fits')[1].data['y']\n",
    "\n",
    "star_e1 = []\n",
    "star_e2 = []\n",
    "star_sizes = []\n",
    "for i in range(len(x_cat)):\n",
    "    x = x_cat[i]\n",
    "    y = y_cat[i]\n",
    "    b = galsim.BoundsI(int(x)-stamp_size/2, int(x)+stamp_size/2, int(y)-stamp_size/2, int(y)+stamp_size/2)\n",
    "    b = b & full_image.bounds\n",
    "    im = full_image[b]\n",
    "    dx, dy, g1, g2, T, flux, flag = hsm(im, None, logger)\n",
    "#     dx, dy, g1, g2, T, flux, flag = ngmix_fit(tempimg, None, fwhm, x_cat[i], y_cat[i], logger)\n",
    "    star_e1.append(g1)\n",
    "    star_e2.append(g2)\n",
    "    star_sizes.append(T)"
   ]
  },
  {
   "cell_type": "code",
   "execution_count": 32,
   "metadata": {
    "ExecuteTime": {
     "end_time": "2019-05-22T17:38:58.323558Z",
     "start_time": "2019-05-22T17:38:57.879018Z"
    }
   },
   "outputs": [
    {
     "data": {
      "image/png": "[encoded data removed]",
      "text/plain": [
       "<matplotlib.figure.Figure at 0x1251cf048>"
      ]
     },
     "metadata": {},
     "output_type": "display_data"
    },
    {
     "data": {
      "image/png": "[encoded data removed]",
      "text/plain": [
       "<matplotlib.figure.Figure at 0x1250c4320>"
      ]
     },
     "metadata": {},
     "output_type": "display_data"
    }
   ],
   "source": [
    "plt.figure()\n",
    "plt.hist(star_e1, bins=50)\n",
    "plt.xlim(-.2, .2)\n",
    "plt.title('self measured star e1. chip 1')\n",
    "# not even using piff model. just measurement\n",
    "plt.show()\n",
    "plt.figure()\n",
    "plt.hist(star_e2, bins=50)\n",
    "# plt.xlim(-.2, .2)\n",
    "plt.title('self measured star e2. chip 1')\n",
    "# not even using piff model. just measurement\n",
    "plt.show()"
   ]
  },
  {
   "cell_type": "code",
   "execution_count": 34,
   "metadata": {
    "ExecuteTime": {
     "end_time": "2019-05-22T17:40:04.679443Z",
     "start_time": "2019-05-22T17:40:04.287509Z"
    }
   },
   "outputs": [
    {
     "data": {
      "image/png": "[encoded data removed]",
      "text/plain": [
       "<matplotlib.figure.Figure at 0x1226797f0>"
      ]
     },
     "metadata": {},
     "output_type": "display_data"
    },
    {
     "data": {
      "image/png": "[encoded data removed]",
      "text/plain": [
       "<matplotlib.figure.Figure at 0x1251a14a8>"
      ]
     },
     "metadata": {},
     "output_type": "display_data"
    }
   ],
   "source": [
    "plt.figure()\n",
    "plt.hist(psf_cat[1].data[psf_cat[1].data['ccdnum']==1]['piff_e1'], bins=50)\n",
    "plt.xlim(-.2, .2)\n",
    "plt.title('piff e1. chip 1')\n",
    "plt.show()\n",
    "plt.figure()\n",
    "plt.hist(psf_cat[1].data[psf_cat[1].data['ccdnum']==1]['piff_e2'], bins=50)\n",
    "plt.xlim(-.2, .2)\n",
    "plt.title('piff e1. chip 1')\n",
    "plt.show()"
   ]
  },
  {
   "cell_type": "code",
   "execution_count": 31,
   "metadata": {
    "ExecuteTime": {
     "end_time": "2019-05-22T17:38:37.063394Z",
     "start_time": "2019-05-22T17:38:35.176515Z"
    },
    "collapsed": true
   },
   "outputs": [],
   "source": [
    "# self piff model measurement for stars\n",
    "piff_e1 = []\n",
    "piff_e2 = []\n",
    "piff_sizes = []\n",
    "piffdir='/Users/rebeccachen/Piff/y3_test/output/'\n",
    "chip_num = \"%.2d\" % 1\n",
    "psf = piff.read(piffdir+'383252_c'+chip_num+'.piff')\n",
    "x_cat = pf.open(direc+'383252_c'+chip_num+'.fits')[1].data['x']\n",
    "y_cat = pf.open(direc+'383252_c'+chip_num+'.fits')[1].data['y']\n",
    "for i in range(len(x_cat)):\n",
    "    temp = psf.draw(x_cat[i], y_cat[i])\n",
    "    galsim.fits.write(temp, 'temp.fits', piffdir)\n",
    "    tempimg = galsim.fits.read('temp.fits', piffdir)\n",
    "    dx, dy, g1, g2, T, flux, flag = hsm(temp, None, logger)\n",
    "#     dx, dy, g1, g2, T, flux, flag = ngmix_fit(tempimg, None, fwhm, x_cat[i], y_cat[i], logger)\n",
    "    piff_e1.append(g1)\n",
    "    piff_e2.append(g2)\n",
    "    piff_sizes.append(T)"
   ]
  },
  {
   "cell_type": "code",
   "execution_count": 33,
   "metadata": {
    "ExecuteTime": {
     "end_time": "2019-05-22T17:39:09.802800Z",
     "start_time": "2019-05-22T17:39:09.439991Z"
    }
   },
   "outputs": [
    {
     "data": {
      "image/png": "[encoded data removed]",
      "text/plain": [
       "<matplotlib.figure.Figure at 0x11be075c0>"
      ]
     },
     "metadata": {},
     "output_type": "display_data"
    },
    {
     "data": {
      "image/png": "[encoded data removed]",
      "text/plain": [
       "<matplotlib.figure.Figure at 0x122550390>"
      ]
     },
     "metadata": {},
     "output_type": "display_data"
    }
   ],
   "source": [
    "plt.figure()\n",
    "plt.hist(piff_e1, bins=50)\n",
    "plt.xlim(-.2, .2)\n",
    "plt.title('self measured star e1 from own piff run. chip 1')\n",
    "plt.show()\n",
    "plt.figure()\n",
    "plt.hist(piff_e2, bins=50)\n",
    "# plt.xlim(-.2, .2)\n",
    "plt.title('self measured star e2 from own piff run. chip 1')\n",
    "plt.show()"
   ]
  },
  {
   "cell_type": "code",
   "execution_count": null,
   "metadata": {
    "collapsed": true
   },
   "outputs": [],
   "source": []
  }
 ],
 "metadata": {
  "kernelspec": {
   "display_name": "Python 3",
   "language": "python",
   "name": "python3"
  },
  "language_info": {
   "codemirror_mode": {
    "name": "ipython",
    "version": 3
   },
   "file_extension": ".py",
   "mimetype": "text/x-python",
   "name": "python",
   "nbconvert_exporter": "python",
   "pygments_lexer": "ipython3",
   "version": "3.6.7"
  }
 },
 "nbformat": 4,
 "nbformat_minor": 2
}
