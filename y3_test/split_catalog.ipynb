{
 "cells": [
  {
   "cell_type": "code",
   "execution_count": 2,
   "metadata": {
    "ExecuteTime": {
     "end_time": "2019-05-22T16:34:04.487730Z",
     "start_time": "2019-05-22T16:34:03.352056Z"
    },
    "collapsed": true
   },
   "outputs": [],
   "source": [
    "import numpy as np\n",
    "import astropy.io.fits as pf\n",
    "import matplotlib.pyplot as plt\n",
    "import matplotlib.colors as color\n",
    "from astropy import units as u\n",
    "from astropy.coordinates import SkyCoord\n",
    "from astropy.table import Table, hstack\n",
    "%matplotlib inline"
   ]
  },
  {
   "cell_type": "code",
   "execution_count": 3,
   "metadata": {
    "ExecuteTime": {
     "end_time": "2019-05-22T16:34:04.570701Z",
     "start_time": "2019-05-22T16:34:04.489113Z"
    },
    "collapsed": true
   },
   "outputs": [],
   "source": [
    "catalog = pf.open('./exp_psf_cat_383252.fits')\n",
    "exp_nums = np.loadtxt('./exp_nums.txt')"
   ]
  },
  {
   "cell_type": "code",
   "execution_count": 4,
   "metadata": {
    "ExecuteTime": {
     "end_time": "2019-05-22T16:34:18.561207Z",
     "start_time": "2019-05-22T16:34:04.660893Z"
    },
    "collapsed": true
   },
   "outputs": [],
   "source": [
    "gaia = pf.open('/Users/rebeccachen/Desktop/Piff_work/des-y3a2-gaia-dr2-stellar-match-0p5.fits')[1].data\n",
    "\n",
    "\n",
    "gaia_coord = SkyCoord(gaia['RA']*u.deg, gaia['DEC']*u.deg)"
   ]
  },
  {
   "cell_type": "code",
   "execution_count": 6,
   "metadata": {
    "ExecuteTime": {
     "end_time": "2019-05-22T16:34:32.462178Z",
     "start_time": "2019-05-22T16:34:31.984617Z"
    },
    "scrolled": true
   },
   "outputs": [
    {
     "name": "stdout",
     "output_type": "stream",
     "text": [
      "01 128\n",
      "02 0\n",
      "03 144\n",
      "04 92\n",
      "05 112\n",
      "06 84\n",
      "07 97\n",
      "08 108\n",
      "09 111\n",
      "10 106\n",
      "11 96\n",
      "12 124\n",
      "13 82\n",
      "14 114\n",
      "15 84\n",
      "16 81\n",
      "17 108\n",
      "18 157\n",
      "19 110\n",
      "20 107\n",
      "21 132\n",
      "22 130\n",
      "23 135\n",
      "24 145\n",
      "25 96\n",
      "26 121\n",
      "27 111\n",
      "28 128\n",
      "29 105\n",
      "30 119\n",
      "32 103\n",
      "33 139\n",
      "34 108\n",
      "35 146\n",
      "36 136\n",
      "37 119\n",
      "38 114\n",
      "39 122\n",
      "40 114\n",
      "41 172\n",
      "42 97\n",
      "43 92\n",
      "44 108\n",
      "45 116\n",
      "46 111\n",
      "47 112\n",
      "48 106\n",
      "49 106\n",
      "50 103\n",
      "51 85\n",
      "52 154\n",
      "53 133\n",
      "54 151\n",
      "55 125\n",
      "56 114\n",
      "57 111\n",
      "58 123\n",
      "59 123\n",
      "60 103\n",
      "62 150\n"
     ]
    }
   ],
   "source": [
    "# split exposure catalog into catalogs by ccd\n",
    "for i in [x for x in range(1, 63) if (x != 31 and x!= 61)]:\n",
    "    chip_num = \"%.2d\" % i\n",
    "    chip = catalog[1].data[catalog[1].data['ccdnum']==i]\n",
    "    print(chip_num, len(chip))\n",
    "    col1 = pf.Column(name='x', format='D', array=chip['x'])\n",
    "    col2 = pf.Column(name='y', format='D', array=chip['y'])\n",
    "    col3 = pf.Column(name='ra', format='D', array=chip['ra'])\n",
    "    col4 = pf.Column(name='dec', format='D', array=chip['dec'])\n",
    "    col5 = pf.Column(name='sky', format='D', array=chip['sky'])\n",
    "    col6 = pf.Column(name='mag', format='E', array=chip['mag'])\n",
    "    cols = pf.ColDefs([col1, col2, col3, col4, col5, col6])\n",
    "    hdu = pf.BinTableHDU.from_columns(cols)\n",
    "    hdr = pf.Header()\n",
    "    primary_hdu = pf.PrimaryHDU(header=hdr)\n",
    "    hdul = pf.HDUList([primary_hdu, hdu])\n",
    "    hdul.writeto('383252_c'+ chip_num+'.fits')"
   ]
  },
  {
   "cell_type": "code",
   "execution_count": 6,
   "metadata": {
    "ExecuteTime": {
     "end_time": "2019-05-07T23:04:59.816784Z",
     "start_time": "2019-05-07T23:04:45.635612Z"
    },
    "scrolled": true
   },
   "outputs": [
    {
     "name": "stdout",
     "output_type": "stream",
     "text": [
      "chip:  01 stars matched:  61 , total stars:  128\n",
      "chip:  02 stars matched:  0 , total stars:  0\n",
      "chip:  03 stars matched:  62 , total stars:  144\n",
      "chip:  04 stars matched:  49 , total stars:  92\n",
      "chip:  05 stars matched:  70 , total stars:  112\n",
      "chip:  06 stars matched:  49 , total stars:  84\n",
      "chip:  07 stars matched:  65 , total stars:  97\n",
      "chip:  08 stars matched:  64 , total stars:  108\n",
      "chip:  09 stars matched:  67 , total stars:  111\n",
      "chip:  10 stars matched:  52 , total stars:  106\n",
      "chip:  11 stars matched:  51 , total stars:  96\n",
      "chip:  12 stars matched:  60 , total stars:  124\n",
      "chip:  13 stars matched:  44 , total stars:  82\n",
      "chip:  14 stars matched:  67 , total stars:  114\n",
      "chip:  15 stars matched:  58 , total stars:  84\n",
      "chip:  16 stars matched:  46 , total stars:  81\n",
      "chip:  17 stars matched:  48 , total stars:  108\n",
      "chip:  18 stars matched:  62 , total stars:  157\n",
      "chip:  19 stars matched:  55 , total stars:  110\n",
      "chip:  20 stars matched:  62 , total stars:  107\n",
      "chip:  21 stars matched:  66 , total stars:  132\n",
      "chip:  22 stars matched:  47 , total stars:  130\n",
      "chip:  23 stars matched:  51 , total stars:  135\n",
      "chip:  24 stars matched:  71 , total stars:  145\n",
      "chip:  25 stars matched:  61 , total stars:  96\n",
      "chip:  26 stars matched:  68 , total stars:  121\n",
      "chip:  27 stars matched:  69 , total stars:  111\n",
      "chip:  28 stars matched:  44 , total stars:  128\n",
      "chip:  29 stars matched:  35 , total stars:  105\n",
      "chip:  30 stars matched:  41 , total stars:  119\n",
      "chip:  32 stars matched:  50 , total stars:  103\n",
      "chip:  33 stars matched:  61 , total stars:  139\n",
      "chip:  34 stars matched:  59 , total stars:  108\n",
      "chip:  35 stars matched:  55 , total stars:  146\n",
      "chip:  36 stars matched:  57 , total stars:  136\n",
      "chip:  37 stars matched:  44 , total stars:  119\n",
      "chip:  38 stars matched:  56 , total stars:  114\n",
      "chip:  39 stars matched:  54 , total stars:  122\n",
      "chip:  40 stars matched:  54 , total stars:  114\n",
      "chip:  41 stars matched:  69 , total stars:  172\n",
      "chip:  42 stars matched:  62 , total stars:  97\n",
      "chip:  43 stars matched:  55 , total stars:  92\n",
      "chip:  44 stars matched:  55 , total stars:  108\n",
      "chip:  45 stars matched:  50 , total stars:  116\n",
      "chip:  46 stars matched:  53 , total stars:  111\n",
      "chip:  47 stars matched:  62 , total stars:  112\n",
      "chip:  48 stars matched:  49 , total stars:  106\n",
      "chip:  49 stars matched:  65 , total stars:  106\n",
      "chip:  50 stars matched:  67 , total stars:  103\n",
      "chip:  51 stars matched:  46 , total stars:  85\n",
      "chip:  52 stars matched:  79 , total stars:  154\n",
      "chip:  53 stars matched:  71 , total stars:  133\n",
      "chip:  54 stars matched:  48 , total stars:  151\n",
      "chip:  55 stars matched:  49 , total stars:  125\n",
      "chip:  56 stars matched:  51 , total stars:  114\n",
      "chip:  57 stars matched:  39 , total stars:  111\n",
      "chip:  58 stars matched:  73 , total stars:  123\n",
      "chip:  59 stars matched:  50 , total stars:  123\n",
      "chip:  60 stars matched:  46 , total stars:  103\n",
      "chip:  62 stars matched:  57 , total stars:  150\n"
     ]
    }
   ],
   "source": [
    "# does same as above but for gaia matched stars only\n",
    "for i in [x for x in range(1, 63) if (x != 31 and x!= 61)]:\n",
    "    chip_num = \"%.2d\" % i\n",
    "    chip = catalog[1].data[catalog[1].data['ccdnum']==i]\n",
    "    ra = chip['ra']\n",
    "    dec = chip['dec']\n",
    "    des_coord = SkyCoord(ra*u.deg, dec*u.deg)\n",
    "    idx_des, idx_gaia, d2d, d3d = SkyCoord.search_around_sky(gaia_coord, des_coord, .0003*u.deg)\n",
    "    chip_matches = chip[idx_des]\n",
    "    print('chip: ', chip_num, 'stars matched: ', str(len(chip_matches)), ', total stars: ', str(len(chip)))\n",
    "    col1 = pf.Column(name='x', format='D', array=chip_matches['x'])\n",
    "    col2 = pf.Column(name='y', format='D', array=chip_matches['y'])\n",
    "    col3 = pf.Column(name='ra', format='D', array=chip_matches['ra'])\n",
    "    col4 = pf.Column(name='dec', format='D', array=chip_matches['dec'])\n",
    "    col5 = pf.Column(name='sky', format='D', array=chip_matches['sky'])\n",
    "    col6 = pf.Column(name='mag', format='E', array=chip_matches['mag'])\n",
    "    cols = pf.ColDefs([col1, col2, col3, col4, col5, col6])\n",
    "    hdu = pf.BinTableHDU.from_columns(cols)\n",
    "    hdr = pf.Header()\n",
    "    primary_hdu = pf.PrimaryHDU(header=hdr)\n",
    "    hdul = pf.HDUList([primary_hdu, hdu])\n",
    "    hdul.writeto('383252_c'+chip_num+'_gaiamatches.fits')"
   ]
  }
 ],
 "metadata": {
  "kernelspec": {
   "display_name": "Python 3",
   "language": "python",
   "name": "python3"
  },
  "language_info": {
   "codemirror_mode": {
    "name": "ipython",
    "version": 3
   },
   "file_extension": ".py",
   "mimetype": "text/x-python",
   "name": "python",
   "nbconvert_exporter": "python",
   "pygments_lexer": "ipython3",
   "version": "3.6.7"
  }
 },
 "nbformat": 4,
 "nbformat_minor": 2
}
