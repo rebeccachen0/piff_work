{
 "cells": [
  {
   "cell_type": "code",
   "execution_count": 13,
   "metadata": {
    "ExecuteTime": {
     "end_time": "2019-01-24T18:47:30.877451Z",
     "start_time": "2019-01-24T18:47:30.871128Z"
    },
    "collapsed": true
   },
   "outputs": [],
   "source": [
    "import numpy as np\n",
    "import astropy.io.fits as pf\n",
    "import piff\n",
    "import matplotlib.pyplot as plt\n",
    "import galsim\n",
    "import logging\n",
    "import pandas\n",
    "import os\n",
    "import ngmix\n",
    "%matplotlib inline"
   ]
  },
  {
   "cell_type": "code",
   "execution_count": 14,
   "metadata": {
    "ExecuteTime": {
     "end_time": "2019-01-24T18:47:31.118068Z",
     "start_time": "2019-01-24T18:47:31.113997Z"
    },
    "collapsed": true
   },
   "outputs": [],
   "source": [
    "imdir = '/Users/rebeccachen/Desktop/Piff_work/'\n",
    "image = 'test_image.fits'\n",
    "cat = 'test_cat.fits'\n",
    "\n",
    "piffdir = '/Users/rebeccachen/Piff/examples/'\n",
    "piff_file = 'piff_00261962-i-R22-S11-det094.fits'"
   ]
  },
  {
   "cell_type": "code",
   "execution_count": 15,
   "metadata": {
    "ExecuteTime": {
     "end_time": "2019-01-24T18:47:31.526880Z",
     "start_time": "2019-01-24T18:47:31.415560Z"
    }
   },
   "outputs": [],
   "source": [
    "psf = piff.read(piffdir+piff_file)\n",
    "dc2_cat = pf.open(imdir+cat)\n",
    "des_cat = pf.open(imdir+'y1_test/DECam_00241238_29_psfcat_tb_maxmag_17.0_magcut_3.0_findstars.fits')"
   ]
  },
  {
   "cell_type": "code",
   "execution_count": 17,
   "metadata": {
    "ExecuteTime": {
     "end_time": "2019-01-24T18:47:46.532136Z",
     "start_time": "2019-01-24T18:47:46.522686Z"
    }
   },
   "outputs": [
    {
     "name": "stdout",
     "output_type": "stream",
     "text": [
      "Filename: /Users/rebeccachen/Desktop/Piff_work/y1_test/DECam_00241238_29_psfcat_tb_maxmag_17.0_magcut_3.0_findstars.fits\n",
      "No.    Name      Ver    Type      Cards   Dimensions   Format\n",
      "  0  PRIMARY       1 PrimaryHDU       4   ()      \n",
      "  1  LDAC_IMHEAD    1 BinTableHDU     12   1R x 1C   [28960A]   \n",
      "  2  LDAC_OBJECTS    1 BinTableHDU    101   108R x 24C   [3969E, 1D, 1D, 1D, 1D, 1E, 1E, 12E, 12E, 1E, 12E, 12E, 1E, 1E, 1I, 1E, 1E, 1E, 1E, 1J, 1E, 1E, 1E, 1E]   \n"
     ]
    }
   ],
   "source": [
    "des_cat.info()"
   ]
  },
  {
   "cell_type": "code",
   "execution_count": 16,
   "metadata": {
    "ExecuteTime": {
     "end_time": "2019-01-24T18:47:45.232439Z",
     "start_time": "2019-01-24T18:47:45.204889Z"
    }
   },
   "outputs": [
    {
     "name": "stdout",
     "output_type": "stream",
     "text": [
      "Filename: /Users/rebeccachen/Desktop/Piff_work/test_cat.fits\n",
      "No.    Name      Ver    Type      Cards   Dimensions   Format\n",
      "  0  PRIMARY       1 PrimaryHDU       6   ()      \n",
      "  1                1 BinTableHDU    823   1747R x 115C   [114X, 1K, 1D, 1D, 1K, 1J, 1D, 1D, 1D, 1D, 1D, 1D, 1D, 1E, 1E, 1D, 1D, 1D, 1D, 1D, 1D, 1D, 1D, 1D, 1D, 1D, 1D, 1D, 1D, 1D, 1D, 1D, 1D, 1D, 1D, 1D, 1D, 1D, 1D, 1D, 1E, 1E, 1E, 1D, 1D, 1D, 1D, 1D, 1D, 1D, 1E, 1E, 1E, 1D, 1D, 1D, 1D, 1D, 1D, 1D, 1D, 1D, 1D, 1D, 1D, 1D, 1D, 1D, 1D, 1D, 1D, 1D, 1E, 1D, 1D, 1D, 1D, 1D, 1D, 1D, 1D, 1D, 1D, 1D, 1D, 1D, 1D, 1D, 1D, 1D, 1D, 1D, 1D, 1D, 1D, 1D, 1D, 1D, 1D, 1E, 1D, 1D, 1D, 1E, 1E, 1E, 1D, 1D, 1D, 1D, 1D, 1D, 1D, 1J, 1J]   \n",
      "  2                1 BinTableHDU     40   5650R x 7C   [1J, 1J, 1J, 1J, 1J, 64A, 64A]   \n",
      "  3                1 BinTableHDU     17   1747R x 1C   [1J]   \n",
      "  4                1 BinTableHDU     27   54725R x 3C   [1J, 1J, 1J]   \n",
      "  5                1 BinTableHDU     42   1993R x 6C   [1K, 1E, 1E, 1J, 1J, 1E]   \n",
      "  6                1 BinTableHDU     26   409R x 3C   [1QE(4037), 1QJ(4037), 1QE(4037)]   \n"
     ]
    }
   ],
   "source": [
    "dc2_cat.info()"
   ]
  },
  {
   "cell_type": "code",
   "execution_count": 22,
   "metadata": {
    "ExecuteTime": {
     "end_time": "2019-01-24T18:48:55.933699Z",
     "start_time": "2019-01-24T18:48:55.917079Z"
    }
   },
   "outputs": [],
   "source": [
    "dc2_cat[1].header\n",
    "data1 = dc2_cat[1].data\n",
    "data2 = des_cat[2].data"
   ]
  },
  {
   "cell_type": "code",
   "execution_count": 20,
   "metadata": {
    "ExecuteTime": {
     "end_time": "2019-01-24T18:48:34.819438Z",
     "start_time": "2019-01-24T18:48:34.813999Z"
    }
   },
   "outputs": [
    {
     "data": {
      "text/plain": [
       "ColDefs(\n",
       "    name = 'flags'; format = '114X'\n",
       "    name = 'id'; format = '1K'\n",
       "    name = 'coord_ra'; format = '1D'; unit = 'rad'\n",
       "    name = 'coord_dec'; format = '1D'; unit = 'rad'\n",
       "    name = 'parent'; format = '1K'\n",
       "    name = 'deblend_nChild'; format = '1J'\n",
       "    name = 'deblend_psfCenter_x'; format = '1D'; unit = 'pixel'\n",
       "    name = 'deblend_psfCenter_y'; format = '1D'; unit = 'pixel'\n",
       "    name = 'deblend_psfFlux'; format = '1D'\n",
       "    name = 'base_NaiveCentroid_x'; format = '1D'; unit = 'pixel'\n",
       "    name = 'base_NaiveCentroid_y'; format = '1D'; unit = 'pixel'\n",
       "    name = 'base_SdssCentroid_x'; format = '1D'; unit = 'pixel'\n",
       "    name = 'base_SdssCentroid_y'; format = '1D'; unit = 'pixel'\n",
       "    name = 'base_SdssCentroid_xSigma'; format = '1E'; unit = 'pixel'\n",
       "    name = 'base_SdssCentroid_ySigma'; format = '1E'; unit = 'pixel'\n",
       "    name = 'base_Blendedness_old'; format = '1D'\n",
       "    name = 'base_Blendedness_raw_flux'; format = '1D'\n",
       "    name = 'base_Blendedness_raw_flux_child'; format = '1D'; unit = 'count'\n",
       "    name = 'base_Blendedness_raw_flux_parent'; format = '1D'; unit = 'count'\n",
       "    name = 'base_Blendedness_abs_flux'; format = '1D'\n",
       "    name = 'base_Blendedness_abs_flux_child'; format = '1D'; unit = 'count'\n",
       "    name = 'base_Blendedness_abs_flux_parent'; format = '1D'; unit = 'count'\n",
       "    name = 'base_Blendedness_raw_child_xx'; format = '1D'; unit = 'pixel^2'\n",
       "    name = 'base_Blendedness_raw_child_yy'; format = '1D'; unit = 'pixel^2'\n",
       "    name = 'base_Blendedness_raw_child_xy'; format = '1D'; unit = 'pixel^2'\n",
       "    name = 'base_Blendedness_raw_parent_xx'; format = '1D'; unit = 'pixel^2'\n",
       "    name = 'base_Blendedness_raw_parent_yy'; format = '1D'; unit = 'pixel^2'\n",
       "    name = 'base_Blendedness_raw_parent_xy'; format = '1D'; unit = 'pixel^2'\n",
       "    name = 'base_Blendedness_abs_child_xx'; format = '1D'; unit = 'pixel^2'\n",
       "    name = 'base_Blendedness_abs_child_yy'; format = '1D'; unit = 'pixel^2'\n",
       "    name = 'base_Blendedness_abs_child_xy'; format = '1D'; unit = 'pixel^2'\n",
       "    name = 'base_Blendedness_abs_parent_xx'; format = '1D'; unit = 'pixel^2'\n",
       "    name = 'base_Blendedness_abs_parent_yy'; format = '1D'; unit = 'pixel^2'\n",
       "    name = 'base_Blendedness_abs_parent_xy'; format = '1D'; unit = 'pixel^2'\n",
       "    name = 'base_FPPosition_x'; format = '1D'; unit = 'mm'\n",
       "    name = 'base_FPPosition_y'; format = '1D'; unit = 'mm'\n",
       "    name = 'base_Jacobian_value'; format = '1D'\n",
       "    name = 'base_SdssShape_xx'; format = '1D'; unit = 'pixel^2'\n",
       "    name = 'base_SdssShape_yy'; format = '1D'; unit = 'pixel^2'\n",
       "    name = 'base_SdssShape_xy'; format = '1D'; unit = 'pixel^2'\n",
       "    name = 'base_SdssShape_xxSigma'; format = '1E'; unit = 'pixel^2'\n",
       "    name = 'base_SdssShape_yySigma'; format = '1E'; unit = 'pixel^2'\n",
       "    name = 'base_SdssShape_xySigma'; format = '1E'; unit = 'pixel^2'\n",
       "    name = 'base_SdssShape_x'; format = '1D'; unit = 'pixel'\n",
       "    name = 'base_SdssShape_y'; format = '1D'; unit = 'pixel'\n",
       "    name = 'base_SdssShape_flux'; format = '1D'; unit = 'count'\n",
       "    name = 'base_SdssShape_fluxSigma'; format = '1D'; unit = 'count'\n",
       "    name = 'base_SdssShape_psf_xx'; format = '1D'; unit = 'pixel^2'\n",
       "    name = 'base_SdssShape_psf_yy'; format = '1D'; unit = 'pixel^2'\n",
       "    name = 'base_SdssShape_psf_xy'; format = '1D'; unit = 'pixel^2'\n",
       "    name = 'base_SdssShape_flux_xx_Cov'; format = '1E'; unit = 'count*pixel^2'\n",
       "    name = 'base_SdssShape_flux_yy_Cov'; format = '1E'; unit = 'count*pixel^2'\n",
       "    name = 'base_SdssShape_flux_xy_Cov'; format = '1E'; unit = 'count*pixel^2'\n",
       "    name = 'ext_shapeHSM_HsmPsfMoments_x'; format = '1D'; unit = 'pixel'\n",
       "    name = 'ext_shapeHSM_HsmPsfMoments_y'; format = '1D'; unit = 'pixel'\n",
       "    name = 'ext_shapeHSM_HsmPsfMoments_xx'; format = '1D'; unit = 'pixel^2'\n",
       "    name = 'ext_shapeHSM_HsmPsfMoments_yy'; format = '1D'; unit = 'pixel^2'\n",
       "    name = 'ext_shapeHSM_HsmPsfMoments_xy'; format = '1D'; unit = 'pixel^2'\n",
       "    name = 'ext_shapeHSM_HsmShapeRegauss_e1'; format = '1D'\n",
       "    name = 'ext_shapeHSM_HsmShapeRegauss_e2'; format = '1D'\n",
       "    name = 'ext_shapeHSM_HsmShapeRegauss_sigma'; format = '1D'\n",
       "    name = 'ext_shapeHSM_HsmShapeRegauss_resolution'; format = '1D'\n",
       "    name = 'ext_shapeHSM_HsmSourceMoments_x'; format = '1D'; unit = 'pixel'\n",
       "    name = 'ext_shapeHSM_HsmSourceMoments_y'; format = '1D'; unit = 'pixel'\n",
       "    name = 'ext_shapeHSM_HsmSourceMoments_xx'; format = '1D'; unit = 'pixel^2'\n",
       "    name = 'ext_shapeHSM_HsmSourceMoments_yy'; format = '1D'; unit = 'pixel^2'\n",
       "    name = 'ext_shapeHSM_HsmSourceMoments_xy'; format = '1D'; unit = 'pixel^2'\n",
       "    name = 'ext_shapeHSM_HsmSourceMomentsRound_x'; format = '1D'; unit = 'pixel'\n",
       "    name = 'ext_shapeHSM_HsmSourceMomentsRound_y'; format = '1D'; unit = 'pixel'\n",
       "    name = 'ext_shapeHSM_HsmSourceMomentsRound_xx'; format = '1D'; unit = 'pixel^2'\n",
       "    name = 'ext_shapeHSM_HsmSourceMomentsRound_yy'; format = '1D'; unit = 'pixel^2'\n",
       "    name = 'ext_shapeHSM_HsmSourceMomentsRound_xy'; format = '1D'; unit = 'pixel^2'\n",
       "    name = 'ext_shapeHSM_HsmSourceMomentsRound_Flux'; format = '1E'\n",
       "    name = 'base_CircularApertureFlux_3_0_flux'; format = '1D'; unit = 'count'\n",
       "    name = 'base_CircularApertureFlux_3_0_fluxSigma'; format = '1D'; unit = 'count'\n",
       "    name = 'base_CircularApertureFlux_4_5_flux'; format = '1D'; unit = 'count'\n",
       "    name = 'base_CircularApertureFlux_4_5_fluxSigma'; format = '1D'; unit = 'count'\n",
       "    name = 'base_CircularApertureFlux_6_0_flux'; format = '1D'; unit = 'count'\n",
       "    name = 'base_CircularApertureFlux_6_0_fluxSigma'; format = '1D'; unit = 'count'\n",
       "    name = 'base_CircularApertureFlux_9_0_flux'; format = '1D'; unit = 'count'\n",
       "    name = 'base_CircularApertureFlux_9_0_fluxSigma'; format = '1D'; unit = 'count'\n",
       "    name = 'base_CircularApertureFlux_12_0_flux'; format = '1D'; unit = 'count'\n",
       "    name = 'base_CircularApertureFlux_12_0_fluxSigma'; format = '1D'; unit = 'count'\n",
       "    name = 'base_CircularApertureFlux_17_0_flux'; format = '1D'; unit = 'count'\n",
       "    name = 'base_CircularApertureFlux_17_0_fluxSigma'; format = '1D'; unit = 'count'\n",
       "    name = 'base_CircularApertureFlux_25_0_flux'; format = '1D'; unit = 'count'\n",
       "    name = 'base_CircularApertureFlux_25_0_fluxSigma'; format = '1D'; unit = 'count'\n",
       "    name = 'base_CircularApertureFlux_35_0_flux'; format = '1D'; unit = 'count'\n",
       "    name = 'base_CircularApertureFlux_35_0_fluxSigma'; format = '1D'; unit = 'count'\n",
       "    name = 'base_CircularApertureFlux_50_0_flux'; format = '1D'; unit = 'count'\n",
       "    name = 'base_CircularApertureFlux_50_0_fluxSigma'; format = '1D'; unit = 'count'\n",
       "    name = 'base_CircularApertureFlux_70_0_flux'; format = '1D'; unit = 'count'\n",
       "    name = 'base_CircularApertureFlux_70_0_fluxSigma'; format = '1D'; unit = 'count'\n",
       "    name = 'base_GaussianFlux_flux'; format = '1D'; unit = 'count'\n",
       "    name = 'base_GaussianFlux_fluxSigma'; format = '1D'; unit = 'count'\n",
       "    name = 'base_LocalBackground_flux'; format = '1D'; unit = 'count'\n",
       "    name = 'base_LocalBackground_fluxSigma'; format = '1D'; unit = 'count'\n",
       "    name = 'base_PsfFlux_flux'; format = '1D'; unit = 'count'\n",
       "    name = 'base_PsfFlux_fluxSigma'; format = '1D'; unit = 'count'\n",
       "    name = 'base_PsfFlux_area'; format = '1E'; unit = 'pixel'\n",
       "    name = 'base_Variance_value'; format = '1D'\n",
       "    name = 'ext_photometryKron_KronFlux_flux'; format = '1D'; unit = 'count'\n",
       "    name = 'ext_photometryKron_KronFlux_fluxSigma'; format = '1D'; unit = 'count'\n",
       "    name = 'ext_photometryKron_KronFlux_radius'; format = '1E'\n",
       "    name = 'ext_photometryKron_KronFlux_radius_for_radius'; format = '1E'\n",
       "    name = 'ext_photometryKron_KronFlux_psf_radius'; format = '1E'\n",
       "    name = 'ext_photometryKron_KronFlux_apCorr'; format = '1D'\n",
       "    name = 'ext_photometryKron_KronFlux_apCorrSigma'; format = '1D'\n",
       "    name = 'base_GaussianFlux_apCorr'; format = '1D'\n",
       "    name = 'base_GaussianFlux_apCorrSigma'; format = '1D'\n",
       "    name = 'base_PsfFlux_apCorr'; format = '1D'\n",
       "    name = 'base_PsfFlux_apCorrSigma'; format = '1D'\n",
       "    name = 'base_ClassificationExtendedness_value'; format = '1D'\n",
       "    name = 'base_FootprintArea_value'; format = '1J'; unit = 'pixel'\n",
       "    name = 'footprint'; format = '1J'\n",
       ")"
      ]
     },
     "execution_count": 20,
     "metadata": {},
     "output_type": "execute_result"
    }
   ],
   "source": [
    "data1.columns"
   ]
  },
  {
   "cell_type": "code",
   "execution_count": 10,
   "metadata": {
    "ExecuteTime": {
     "end_time": "2019-01-24T18:43:50.280679Z",
     "start_time": "2019-01-24T18:43:50.269648Z"
    }
   },
   "outputs": [
    {
     "data": {
      "text/plain": [
       "array([[ True, False, False, ..., False, False, False],\n",
       "       [False, False, False, ..., False, False, False],\n",
       "       [False, False, False, ..., False, False, False],\n",
       "       ...,\n",
       "       [False, False, False, ..., False, False, False],\n",
       "       [False, False, False, ..., False,  True, False],\n",
       "       [False, False, False, ..., False, False, False]])"
      ]
     },
     "execution_count": 10,
     "metadata": {},
     "output_type": "execute_result"
    }
   ],
   "source": [
    "data['flags']"
   ]
  },
  {
   "cell_type": "code",
   "execution_count": 23,
   "metadata": {
    "ExecuteTime": {
     "end_time": "2019-01-24T18:49:00.164214Z",
     "start_time": "2019-01-24T18:49:00.159501Z"
    }
   },
   "outputs": [
    {
     "data": {
      "text/plain": [
       "ColDefs(\n",
       "    name = 'VIGNET'; format = '3969E'; unit = 'count'; disp = 'G12.7'; dim = '(63, 63)'\n",
       "    name = 'ALPHAWIN_J2000'; format = '1D'; unit = 'deg'; disp = 'F11.7'\n",
       "    name = 'DELTAWIN_J2000'; format = '1D'; unit = 'deg'; disp = 'F11.7'\n",
       "    name = 'XWIN_IMAGE'; format = '1D'; unit = 'pixel'; disp = 'F11.4'\n",
       "    name = 'YWIN_IMAGE'; format = '1D'; unit = 'pixel'; disp = 'F11.4'\n",
       "    name = 'X_IMAGE'; format = '1E'; unit = 'pixel'; disp = 'F11.4'\n",
       "    name = 'Y_IMAGE'; format = '1E'; unit = 'pixel'; disp = 'F11.4'\n",
       "    name = 'FLUX_APER'; format = '12E'; unit = 'count'; disp = 'G12.7'\n",
       "    name = 'FLUXERR_APER'; format = '12E'; unit = 'count'; disp = 'G12.7'\n",
       "    name = 'FLUX_MAX'; format = '1E'; unit = 'count'; disp = 'G12.7'\n",
       "    name = 'MAG_APER'; format = '12E'; unit = 'mag'; disp = 'F8.4'\n",
       "    name = 'MAGERR_APER'; format = '12E'; unit = 'mag'; disp = 'F8.4'\n",
       "    name = 'FLUX_RADIUS'; format = '1E'; unit = 'pixel'; disp = 'F10.3'\n",
       "    name = 'ELONGATION'; format = '1E'; disp = 'F8.3'\n",
       "    name = 'FLAGS'; format = '1I'; disp = 'I3'\n",
       "    name = 'SNR_WIN'; format = '1E'; disp = 'G10.4'\n",
       "    name = 'MAG_AUTO'; format = '1E'; unit = 'mag'; disp = 'F8.4'\n",
       "    name = 'MAGERR_AUTO'; format = '1E'; unit = 'mag'; disp = 'F8.4'\n",
       "    name = 'BACKGROUND'; format = '1E'; unit = 'count'; disp = 'G12.7'\n",
       "    name = 'NUMBER'; format = '1J'; disp = 'I10'\n",
       "    name = 'CLASS_STAR'; format = '1E'; disp = 'F6.3'\n",
       "    name = 'ERRAWIN_WORLD'; format = '1E'; unit = 'deg'; disp = 'G12.7'\n",
       "    name = 'ERRBWIN_WORLD'; format = '1E'; unit = 'deg'; disp = 'G12.7'\n",
       "    name = 'ERRTHETAWIN_J2000'; format = '1E'; unit = 'deg'; disp = 'F6.2'\n",
       ")"
      ]
     },
     "execution_count": 23,
     "metadata": {},
     "output_type": "execute_result"
    }
   ],
   "source": [
    "data2.columns"
   ]
  },
  {
   "cell_type": "code",
   "execution_count": 5,
   "metadata": {
    "ExecuteTime": {
     "end_time": "2019-01-11T20:15:34.153905Z",
     "start_time": "2019-01-11T20:15:33.829387Z"
    }
   },
   "outputs": [
    {
     "ename": "KeyError",
     "evalue": "\"Key 'X_IMAGE' does not exist.\"",
     "output_type": "error",
     "traceback": [
      "\u001b[0;31m---------------------------------------------------------------------------\u001b[0m",
      "\u001b[0;31mValueError\u001b[0m                                Traceback (most recent call last)",
      "\u001b[0;32m/Users/rebeccachen/anaconda/lib/python3.6/site-packages/astropy/io/fits/column.py\u001b[0m in \u001b[0;36m_get_index\u001b[0;34m(names, key)\u001b[0m\n\u001b[1;32m   1957\u001b[0m         \u001b[0;32mtry\u001b[0m\u001b[0;34m:\u001b[0m\u001b[0;34m\u001b[0m\u001b[0m\n\u001b[0;32m-> 1958\u001b[0;31m             \u001b[0mindx\u001b[0m \u001b[0;34m=\u001b[0m \u001b[0mnames\u001b[0m\u001b[0;34m.\u001b[0m\u001b[0mindex\u001b[0m\u001b[0;34m(\u001b[0m\u001b[0mkey\u001b[0m\u001b[0;34m.\u001b[0m\u001b[0mrstrip\u001b[0m\u001b[0;34m(\u001b[0m\u001b[0;34m)\u001b[0m\u001b[0;34m)\u001b[0m\u001b[0;34m\u001b[0m\u001b[0m\n\u001b[0m\u001b[1;32m   1959\u001b[0m         \u001b[0;32mexcept\u001b[0m \u001b[0mValueError\u001b[0m\u001b[0;34m:\u001b[0m\u001b[0;34m\u001b[0m\u001b[0m\n",
      "\u001b[0;31mValueError\u001b[0m: 'X_IMAGE' is not in list",
      "\nDuring handling of the above exception, another exception occurred:\n",
      "\u001b[0;31mKeyError\u001b[0m                                  Traceback (most recent call last)",
      "\u001b[0;32m<ipython-input-5-f9731ba6021b>\u001b[0m in \u001b[0;36m<module>\u001b[0;34m()\u001b[0m\n\u001b[0;32m----> 1\u001b[0;31m \u001b[0mx_cat\u001b[0m \u001b[0;34m=\u001b[0m \u001b[0mpf\u001b[0m\u001b[0;34m.\u001b[0m\u001b[0mopen\u001b[0m\u001b[0;34m(\u001b[0m\u001b[0mimdir\u001b[0m\u001b[0;34m+\u001b[0m\u001b[0mcat\u001b[0m\u001b[0;34m)\u001b[0m\u001b[0;34m[\u001b[0m\u001b[0;36m2\u001b[0m\u001b[0;34m]\u001b[0m\u001b[0;34m.\u001b[0m\u001b[0mdata\u001b[0m\u001b[0;34m[\u001b[0m\u001b[0;34m'X_IMAGE'\u001b[0m\u001b[0;34m]\u001b[0m\u001b[0;34m\u001b[0m\u001b[0m\n\u001b[0m\u001b[1;32m      2\u001b[0m \u001b[0my_cat\u001b[0m \u001b[0;34m=\u001b[0m \u001b[0mpf\u001b[0m\u001b[0;34m.\u001b[0m\u001b[0mopen\u001b[0m\u001b[0;34m(\u001b[0m\u001b[0mimdir\u001b[0m\u001b[0;34m+\u001b[0m\u001b[0mcat\u001b[0m\u001b[0;34m)\u001b[0m\u001b[0;34m[\u001b[0m\u001b[0;36m2\u001b[0m\u001b[0;34m]\u001b[0m\u001b[0;34m.\u001b[0m\u001b[0mdata\u001b[0m\u001b[0;34m[\u001b[0m\u001b[0;34m'Y_IMAGE'\u001b[0m\u001b[0;34m]\u001b[0m\u001b[0;34m\u001b[0m\u001b[0m\n",
      "\u001b[0;32m/Users/rebeccachen/anaconda/lib/python3.6/site-packages/astropy/io/fits/fitsrec.py\u001b[0m in \u001b[0;36m__getitem__\u001b[0;34m(self, key)\u001b[0m\n\u001b[1;32m    485\u001b[0m \u001b[0;34m\u001b[0m\u001b[0m\n\u001b[1;32m    486\u001b[0m         \u001b[0;32mif\u001b[0m \u001b[0misinstance\u001b[0m\u001b[0;34m(\u001b[0m\u001b[0mkey\u001b[0m\u001b[0;34m,\u001b[0m \u001b[0mstr\u001b[0m\u001b[0;34m)\u001b[0m\u001b[0;34m:\u001b[0m\u001b[0;34m\u001b[0m\u001b[0m\n\u001b[0;32m--> 487\u001b[0;31m             \u001b[0;32mreturn\u001b[0m \u001b[0mself\u001b[0m\u001b[0;34m.\u001b[0m\u001b[0mfield\u001b[0m\u001b[0;34m(\u001b[0m\u001b[0mkey\u001b[0m\u001b[0;34m)\u001b[0m\u001b[0;34m\u001b[0m\u001b[0m\n\u001b[0m\u001b[1;32m    488\u001b[0m \u001b[0;34m\u001b[0m\u001b[0m\n\u001b[1;32m    489\u001b[0m         \u001b[0;31m# Have to view as a recarray then back as a FITS_rec, otherwise the\u001b[0m\u001b[0;34m\u001b[0m\u001b[0;34m\u001b[0m\u001b[0m\n",
      "\u001b[0;32m/Users/rebeccachen/anaconda/lib/python3.6/site-packages/astropy/io/fits/fitsrec.py\u001b[0m in \u001b[0;36mfield\u001b[0;34m(self, key)\u001b[0m\n\u001b[1;32m    675\u001b[0m         \u001b[0;31m# NOTE: The *column* index may not be the same as the field index in\u001b[0m\u001b[0;34m\u001b[0m\u001b[0;34m\u001b[0m\u001b[0m\n\u001b[1;32m    676\u001b[0m         \u001b[0;31m# the recarray, if the column is a phantom column\u001b[0m\u001b[0;34m\u001b[0m\u001b[0;34m\u001b[0m\u001b[0m\n\u001b[0;32m--> 677\u001b[0;31m         \u001b[0mcolumn\u001b[0m \u001b[0;34m=\u001b[0m \u001b[0mself\u001b[0m\u001b[0;34m.\u001b[0m\u001b[0mcolumns\u001b[0m\u001b[0;34m[\u001b[0m\u001b[0mkey\u001b[0m\u001b[0;34m]\u001b[0m\u001b[0;34m\u001b[0m\u001b[0m\n\u001b[0m\u001b[1;32m    678\u001b[0m         \u001b[0mname\u001b[0m \u001b[0;34m=\u001b[0m \u001b[0mcolumn\u001b[0m\u001b[0;34m.\u001b[0m\u001b[0mname\u001b[0m\u001b[0;34m\u001b[0m\u001b[0m\n\u001b[1;32m    679\u001b[0m         \u001b[0mformat\u001b[0m \u001b[0;34m=\u001b[0m \u001b[0mcolumn\u001b[0m\u001b[0;34m.\u001b[0m\u001b[0mformat\u001b[0m\u001b[0;34m\u001b[0m\u001b[0m\n",
      "\u001b[0;32m/Users/rebeccachen/anaconda/lib/python3.6/site-packages/astropy/io/fits/column.py\u001b[0m in \u001b[0;36m__getitem__\u001b[0;34m(self, key)\u001b[0m\n\u001b[1;32m   1563\u001b[0m     \u001b[0;32mdef\u001b[0m \u001b[0m__getitem__\u001b[0m\u001b[0;34m(\u001b[0m\u001b[0mself\u001b[0m\u001b[0;34m,\u001b[0m \u001b[0mkey\u001b[0m\u001b[0;34m)\u001b[0m\u001b[0;34m:\u001b[0m\u001b[0;34m\u001b[0m\u001b[0m\n\u001b[1;32m   1564\u001b[0m         \u001b[0;32mif\u001b[0m \u001b[0misinstance\u001b[0m\u001b[0;34m(\u001b[0m\u001b[0mkey\u001b[0m\u001b[0;34m,\u001b[0m \u001b[0mstr\u001b[0m\u001b[0;34m)\u001b[0m\u001b[0;34m:\u001b[0m\u001b[0;34m\u001b[0m\u001b[0m\n\u001b[0;32m-> 1565\u001b[0;31m             \u001b[0mkey\u001b[0m \u001b[0;34m=\u001b[0m \u001b[0m_get_index\u001b[0m\u001b[0;34m(\u001b[0m\u001b[0mself\u001b[0m\u001b[0;34m.\u001b[0m\u001b[0mnames\u001b[0m\u001b[0;34m,\u001b[0m \u001b[0mkey\u001b[0m\u001b[0;34m)\u001b[0m\u001b[0;34m\u001b[0m\u001b[0m\n\u001b[0m\u001b[1;32m   1566\u001b[0m \u001b[0;34m\u001b[0m\u001b[0m\n\u001b[1;32m   1567\u001b[0m         \u001b[0mx\u001b[0m \u001b[0;34m=\u001b[0m \u001b[0mself\u001b[0m\u001b[0;34m.\u001b[0m\u001b[0mcolumns\u001b[0m\u001b[0;34m[\u001b[0m\u001b[0mkey\u001b[0m\u001b[0;34m]\u001b[0m\u001b[0;34m\u001b[0m\u001b[0m\n",
      "\u001b[0;32m/Users/rebeccachen/anaconda/lib/python3.6/site-packages/astropy/io/fits/column.py\u001b[0m in \u001b[0;36m_get_index\u001b[0;34m(names, key)\u001b[0m\n\u001b[1;32m   1965\u001b[0m                 \u001b[0mindx\u001b[0m \u001b[0;34m=\u001b[0m \u001b[0mnames\u001b[0m\u001b[0;34m.\u001b[0m\u001b[0mindex\u001b[0m\u001b[0;34m(\u001b[0m\u001b[0m_key\u001b[0m\u001b[0;34m)\u001b[0m\u001b[0;34m\u001b[0m\u001b[0m\n\u001b[1;32m   1966\u001b[0m             \u001b[0;32melif\u001b[0m \u001b[0mcount\u001b[0m \u001b[0;34m==\u001b[0m \u001b[0;36m0\u001b[0m\u001b[0;34m:\u001b[0m\u001b[0;34m\u001b[0m\u001b[0m\n\u001b[0;32m-> 1967\u001b[0;31m                 \u001b[0;32mraise\u001b[0m \u001b[0mKeyError\u001b[0m\u001b[0;34m(\u001b[0m\u001b[0;34m\"Key '{}' does not exist.\"\u001b[0m\u001b[0;34m.\u001b[0m\u001b[0mformat\u001b[0m\u001b[0;34m(\u001b[0m\u001b[0mkey\u001b[0m\u001b[0;34m)\u001b[0m\u001b[0;34m)\u001b[0m\u001b[0;34m\u001b[0m\u001b[0m\n\u001b[0m\u001b[1;32m   1968\u001b[0m             \u001b[0;32melse\u001b[0m\u001b[0;34m:\u001b[0m              \u001b[0;31m# multiple match\u001b[0m\u001b[0;34m\u001b[0m\u001b[0m\n\u001b[1;32m   1969\u001b[0m                 \u001b[0;32mraise\u001b[0m \u001b[0mKeyError\u001b[0m\u001b[0;34m(\u001b[0m\u001b[0;34m\"Ambiguous key name '{}'.\"\u001b[0m\u001b[0;34m.\u001b[0m\u001b[0mformat\u001b[0m\u001b[0;34m(\u001b[0m\u001b[0mkey\u001b[0m\u001b[0;34m)\u001b[0m\u001b[0;34m)\u001b[0m\u001b[0;34m\u001b[0m\u001b[0m\n",
      "\u001b[0;31mKeyError\u001b[0m: \"Key 'X_IMAGE' does not exist.\""
     ]
    }
   ],
   "source": [
    "# x_cat = pf.open(imdir+cat)[2].data['X_IMAGE']\n",
    "# y_cat = pf.open(imdir+cat)[2].data['Y_IMAGE']"
   ]
  },
  {
   "cell_type": "code",
   "execution_count": null,
   "metadata": {
    "collapsed": true
   },
   "outputs": [],
   "source": []
  }
 ],
 "metadata": {
  "kernelspec": {
   "display_name": "Python 3",
   "language": "python",
   "name": "python3"
  },
  "language_info": {
   "codemirror_mode": {
    "name": "ipython",
    "version": 3
   },
   "file_extension": ".py",
   "mimetype": "text/x-python",
   "name": "python",
   "nbconvert_exporter": "python",
   "pygments_lexer": "ipython3",
   "version": "3.6.1"
  }
 },
 "nbformat": 4,
 "nbformat_minor": 2
}
